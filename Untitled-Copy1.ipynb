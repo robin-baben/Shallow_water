{
 "cells": [
  {
   "cell_type": "code",
   "execution_count": 1,
   "id": "cf8d863b",
   "metadata": {
    "tags": []
   },
   "outputs": [],
   "source": [
    "import numpy as np\n",
    "import math"
   ]
  },
  {
   "cell_type": "code",
   "execution_count": 34,
   "id": "13b7b2cd",
   "metadata": {
    "tags": []
   },
   "outputs": [],
   "source": [
    "import matplotlib.pyplot as plt\n",
    "from IPython.display import clear_output"
   ]
  },
  {
   "cell_type": "code",
   "execution_count": 35,
   "id": "f6a6cc64",
   "metadata": {
    "tags": []
   },
   "outputs": [],
   "source": [
    "def tauh(cfl, u, c):\n",
    "    return cfl / max(max(abs(u-c)), max(abs(u+c)))"
   ]
  },
  {
   "cell_type": "code",
   "execution_count": 36,
   "id": "9ead82be",
   "metadata": {
    "tags": []
   },
   "outputs": [],
   "source": [
    "def first_phase(H_n_mid, u_n_mid, H_n, u_n, g, tau_h, N):\n",
    "    H_centre = np.zeros(N, np.double) #переменные в цетнре ячеек\n",
    "    u_centre = np.zeros(N, np.double)\n",
    "    \n",
    "    for i in range(N):\n",
    "        H_centre[i] = H_n_mid[i] - tau_h * (H_n[i+1] * u_n[i+1] - H_n[i] * u_n[i]) / 2\n",
    "        u_centre[i] = (H_n_mid[i] * u_n_mid[i] - tau_h * (H_n[i+1] * u_n[i+1] ** 2 - H_n[i] * u_n[i] ** 2) / 2 -\n",
    "                      g * tau_h * (H_n[i+1] ** 2 - H_n[i] ** 2) / 4) / H_centre[i]\n",
    "\n",
    "    return (H_centre, u_centre)"
   ]
  },
  {
   "cell_type": "code",
   "execution_count": 37,
   "id": "272c2a93",
   "metadata": {
    "tags": []
   },
   "outputs": [],
   "source": [
    "def second_phase(H_n, u_n, g, H_centre, u_centre, N):\n",
    "    R_n = np.array([u_n[i] + 2 * math.sqrt(g * H_n[i]) for i in range(N+1)], dtype = np.double)\n",
    "    Q_n = np.array([u_n[i] - 2 * math.sqrt(g * H_n[i]) for i in range(N+1)], dtype = np.double)\n",
    "    R_centre = np.array([u_centre[i] + 2 * math.sqrt(g * H_centre[i]) for i in range(N)], dtype = np.double)\n",
    "    Q_centre = np.array([u_centre[i] - 2 * math.sqrt(g * H_centre[i]) for i in range(N)], dtype = np.double)\n",
    "    \n",
    "    R_n1 = np.zeros(N+1, np.double)\n",
    "    Q_n1 = np.zeros(N+1, np.double)\n",
    "    \n",
    "    for i in range(N): #вычисление инвариантов\n",
    "        if u_centre[i] + math.sqrt(g * H_centre[i]) > 0:\n",
    "            R_n1[i+1] = 2 * R_centre[i] - R_n[i]\n",
    "        else:\n",
    "            R_n1[i] = 2 * R_centre[i] - R_n[i+1]\n",
    "            \n",
    "        if u_centre[i] - math.sqrt(g * H_centre[i]) > 0:\n",
    "            Q_n1[i+1] = 2 * Q_centre[i] - Q_n[i]\n",
    "        else:\n",
    "            Q_n1[i] = 2 * Q_centre[i] - Q_n[i+1]\n",
    "    \n",
    "    for i in range(N-1): #коррекция для звуковых точек\n",
    "        if (u_centre[i] + math.sqrt(g * H_centre[i]) > 0 and u_centre[i+1] + math.sqrt(g * H_centre[i+1]) < 0):\n",
    "            if abs(u_centre[i] + math.sqrt(g * H_centre[i])) > abs(u_centre[i+1] + math.sqrt(g * H_centre[i+1])):\n",
    "                R_n1[i+1] = R_centre[i]\n",
    "            else:\n",
    "                R_n1[i+1] = R_centre[i+1]\n",
    "            \n",
    "        if (u_centre[i] + math.sqrt(g * H_centre[i]) < 0 and u_centre[i+1] + math.sqrt(g * H_centre[i+1]) > 0):\n",
    "            R_n1[i+1] = (R_centre[i] + R_centre[i+1]) / 2\n",
    "            \n",
    "        if (u_centre[i] - math.sqrt(g * H_centre[i]) > 0 and u_centre[i+1] - math.sqrt(g * H_centre[i+1]) < 0):\n",
    "            if abs(u_centre[i] - math.sqrt(g * H_centre[i])) > abs(u_centre[i+1] - math.sqrt(g * H_centre[i+1])):\n",
    "                Q_n1[i+1] = Q_centre[i]\n",
    "            else:\n",
    "                Q_n1[i+1] = Q_centre[i+1]\n",
    "            \n",
    "        if (u_centre[i] - math.sqrt(g * H_centre[i]) < 0 and u_centre[i+1] - math.sqrt(g * H_centre[i+1]) > 0):\n",
    "            Q_n1[i+1] = (Q_centre[i] + Q_centre[i+1]) / 2\n",
    "            \n",
    "    R_n1[0] = -Q_n1[0]\n",
    "    Q_n1[N] = -R_n1[N]\n",
    "    \n",
    "    for i in range(N-1): #нелинейная коррекция\n",
    "        minR = min(R_n[i], R_centre[i], R_n[i+1])\n",
    "        maxR = max(R_n[i], R_centre[i], R_n[i+1])\n",
    "        \n",
    "        if R_n1[i+1] < minR:\n",
    "            R_n1[i+1] = minR\n",
    "        if R_n1[i+1] > maxR:\n",
    "            R_n1[i+1] = maxR\n",
    "            \n",
    "            \n",
    "        minQ = min(Q_n[i], Q_centre[i], Q_n[i+1])\n",
    "        maxQ = max(Q_n[i], Q_centre[i], Q_n[i+1])\n",
    "        \n",
    "        if Q_n1[i] < minQ:\n",
    "            Q_n1[i] = minQ\n",
    "        if Q_n1[i] > maxQ:\n",
    "            Q_n1[i] = maxQ\n",
    "            \n",
    "    u_n1 = np.zeros(N+1, np.double) #переменные нового слоя\n",
    "    H_n1 = np.zeros(N+1, np.double)\n",
    "    \n",
    "    for i in range(N+1):\n",
    "        u_n1[i] = (R_n1[i] + Q_n1[i]) / 2\n",
    "        H_n1[i] = ((R_n1[i] - Q_n1[i]) ** 2) / 16 / g\n",
    "        \n",
    "    return (H_n1, u_n1)"
   ]
  },
  {
   "cell_type": "code",
   "execution_count": 38,
   "id": "03579237",
   "metadata": {
    "tags": []
   },
   "outputs": [],
   "source": [
    "def third_phase(H_n1, u_n1, H_centre, u_centre, g, tau_h, N):\n",
    "    H_n1_mid = np.zeros(N, dtype = np.double) #переменные середин отрезков нового слоя\n",
    "    u_n1_mid = np.zeros(N, dtype = np.double)\n",
    "    \n",
    "    for i in range(N):\n",
    "        H_n1_mid[i] = H_centre[i] - tau_h * (H_n1[i+1] * u_n1[i+1] - H_n1[i] * u_n1[i]) / 2\n",
    "        u_n1_mid[i] = (H_centre[i] * u_centre[i] - tau_h * (H_n1[i+1] * u_n1[i+1] ** 2 - H_n1[i] * u_n1[i] ** 2) / 2 -\n",
    "                      g * tau_h * (H_n1[i+1] ** 2 - H_n1[i] ** 2) / 4) / H_n1_mid[i]\n",
    "        \n",
    "    return (H_n1_mid, u_n1_mid)"
   ]
  },
  {
   "cell_type": "markdown",
   "id": "be06133e",
   "metadata": {},
   "source": [
    "#### Задаем начальные условия и сетку"
   ]
  },
  {
   "cell_type": "code",
   "execution_count": 39,
   "id": "c9e3dc83",
   "metadata": {
    "tags": []
   },
   "outputs": [],
   "source": [
    "N = 100\n",
    "a = 0\n",
    "b = 10\n",
    "grid = np.linspace(a, b, N+1)\n",
    "\n",
    "cfl = 0.4\n",
    "g = 1\n",
    "\n",
    "H_left_edge = 2\n",
    "H_right_edge = 1"
   ]
  },
  {
   "cell_type": "code",
   "execution_count": 40,
   "id": "6e14bddf",
   "metadata": {
    "tags": []
   },
   "outputs": [],
   "source": [
    "u0 = np.zeros(N+1, dtype = np.double)\n",
    "H0 = np.array([H_left_edge for _ in range(N // 2)] + [H_right_edge for _ in range(N // 2 + 1)], dtype = np.double)"
   ]
  },
  {
   "cell_type": "markdown",
   "id": "2b2528a3",
   "metadata": {},
   "source": [
    "#### Вычисляем решение на нужном шаге"
   ]
  },
  {
   "cell_type": "code",
   "execution_count": 41,
   "id": "81c9e98e",
   "metadata": {
    "tags": []
   },
   "outputs": [],
   "source": [
    "H_pre = H0\n",
    "u_pre = u0\n",
    "H_n_mid = np.array([(H0[i] + H0[i+1]) / 2 for i in range(N)], dtype = np.float32)\n",
    "u_n_mid = np.array([(u0[i] + u0[i+1]) / 2 for i in range(N)], dtype = np.float32)"
   ]
  },
  {
   "cell_type": "code",
   "execution_count": null,
   "id": "b1ae90f9",
   "metadata": {
    "tags": []
   },
   "outputs": [
    {
     "data": {
      "image/png": "[encoded data removed]",
      "text/plain": [
       "<Figure size 640x480 with 1 Axes>"
      ]
     },
     "metadata": {},
     "output_type": "display_data"
    }
   ],
   "source": [
    "for i in range(1000):\n",
    "    \n",
    "    \n",
    "        \n",
    "    c = np.array([math.sqrt(g * H_pre[i]) for i in range(N+1)])\n",
    "    \n",
    "    tau_h = tauh(cfl, u_pre, c)\n",
    "    \n",
    "    H_centre, u_centre = first_phase(H_n_mid, u_n_mid, H_pre, u_pre, g, tau_h, N)\n",
    "    \n",
    "    H_next, u_next = second_phase(H_pre, u_pre, g, H_centre, u_centre, N)\n",
    "    \n",
    "    H_n_mid, u_n_mid = third_phase(H_next, u_next, H_centre, u_centre, g, tau_h, N)\n",
    "    \n",
    "    H_pre = H_next\n",
    "    u_pre = u_next\n",
    "    \n",
    "    clear_output(True)\n",
    "    plt.axis([0,10,0,3])\n",
    "    plt.plot(grid, H_pre, color = 'red', linewidth=1)\n",
    "    plt.show()"
   ]
  }
 ],
 "metadata": {
  "kernelspec": {
   "display_name": "Python 3 (ipykernel)",
   "language": "python",
   "name": "python3"
  },
  "language_info": {
   "codemirror_mode": {
    "name": "ipython",
    "version": 3
   },
   "file_extension": ".py",
   "mimetype": "text/x-python",
   "name": "python",
   "nbconvert_exporter": "python",
   "pygments_lexer": "ipython3",
   "version": "3.11.5"
  }
 },
 "nbformat": 4,
 "nbformat_minor": 5
}
